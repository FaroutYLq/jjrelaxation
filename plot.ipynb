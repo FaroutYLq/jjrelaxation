{
 "cells": [
  {
   "cell_type": "code",
   "execution_count": null,
   "id": "4d5f18dd-a6d2-4496-bb03-23201e5d2fa5",
   "metadata": {
    "tags": []
   },
   "outputs": [],
   "source": [
    "import numpy as np\n",
    "import matplotlib.pyplot as plt\n",
    "from scipy.optimize import fsolve"
   ]
  },
  {
   "cell_type": "code",
   "execution_count": null,
   "id": "be654e4b-eab2-4c1c-aa10-f79ead528d6d",
   "metadata": {
    "tags": []
   },
   "outputs": [],
   "source": [
    "def min_sys_E(phi_0, r, E_J_R=0.01):\n",
    "    return np.sin(phi_0)*E_J_R + phi_0 - r"
   ]
  },
  {
   "cell_type": "code",
   "execution_count": null,
   "id": "5d1662ba-8e59-4d9a-8277-3d9d196c5ea2",
   "metadata": {
    "tags": []
   },
   "outputs": [],
   "source": [
    "plt.figure(dpi=150)\n",
    "# List of r values\n",
    "r_values = np.linspace(0, 4*np.pi, 201)\n",
    "\n",
    "# Preallocate an array to store the solutions\n",
    "phi_0_values = np.zeros_like(r_values)\n",
    "\n",
    "for E_J_R in [0.001, 0.01, 0.1, 1]:\n",
    "    phi_0_values = np.zeros_like(r_values)\n",
    "    for idx, r in enumerate(r_values):\n",
    "        # Function to find the root of\n",
    "        func = lambda phi_0: min_sys_E(phi_0, r, E_J_R)\n",
    "\n",
    "        # Initial guess for phi_0\n",
    "        initial_guess = 0.5  # You may need to adjust this based on your specific function\n",
    "\n",
    "        # Using fsolve to find the root\n",
    "        phi_0_values[idx] = fsolve(func, initial_guess)\n",
    "\n",
    "    # matrix elements\n",
    "    matrix_element = (np.cos(phi_0_values)+1)/2\n",
    "\n",
    "    plt.plot(r_values/np.pi/2, matrix_element, label=r'$E_J/E_L$='+str(np.around(E_J_R,decimals=3)))\n",
    "plt.legend()\n",
    "plt.xlabel(r'$\\Phi_e$ $[\\Phi_0/2\\pi]$')\n",
    "plt.ylabel(r'$\\Gamma_{10}$ $\\left[\\frac{E_C}{\\omega_{10}}S_{II}[\\omega_{10}]\\right]$')"
   ]
  },
  {
   "cell_type": "code",
   "execution_count": null,
   "id": "87a46785-60a5-481d-a8e2-d469f09ebfe5",
   "metadata": {},
   "outputs": [],
   "source": []
  }
 ],
 "metadata": {
  "kernelspec": {
   "display_name": "Python 3 (ipykernel)",
   "language": "python",
   "name": "python3"
  },
  "language_info": {
   "codemirror_mode": {
    "name": "ipython",
    "version": 3
   },
   "file_extension": ".py",
   "mimetype": "text/x-python",
   "name": "python",
   "nbconvert_exporter": "python",
   "pygments_lexer": "ipython3",
   "version": "3.8.16"
  }
 },
 "nbformat": 4,
 "nbformat_minor": 5
}
